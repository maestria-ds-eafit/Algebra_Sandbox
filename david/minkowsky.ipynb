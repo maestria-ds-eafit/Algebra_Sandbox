{
 "cells": [
  {
   "cell_type": "code",
   "execution_count": 8,
   "metadata": {},
   "outputs": [],
   "source": [
    "import matplotlib.pyplot as plt\n",
    "import numpy as np\n",
    "from ipywidgets import interact, widgets"
   ]
  },
  {
   "cell_type": "code",
   "execution_count": 55,
   "metadata": {},
   "outputs": [],
   "source": [
    "def minkowski(x, y, p = 1):\n",
    "    return np.sum((np.abs(x - y) ** p)) ** (1 / p)"
   ]
  },
  {
   "cell_type": "code",
   "execution_count": 57,
   "metadata": {},
   "outputs": [
    {
     "data": {
      "application/vnd.jupyter.widget-view+json": {
       "model_id": "2ff3fc1c7ed443878986ffe791ba041b",
       "version_major": 2,
       "version_minor": 0
      },
      "text/plain": [
       "interactive(children=(FloatSlider(value=0.1, description='Radius', max=2.0, min=0.1), FloatSlider(value=2.0, d…"
      ]
     },
     "metadata": {},
     "output_type": "display_data"
    },
    {
     "data": {
      "text/plain": [
       "<function __main__.update_plot(r, p)>"
      ]
     },
     "execution_count": 57,
     "metadata": {},
     "output_type": "execute_result"
    }
   ],
   "source": [
    "# Function to update the plot with a circle of radius r\n",
    "def update_plot(r, p):\n",
    "    x = np.linspace(-r - 1, r + 1, 30)\n",
    "    y = np.linspace(-r - 1, r + 1, 30)\n",
    "    grid1, grid2 = np.meshgrid(x, y)\n",
    "    points = np.vstack((grid1.ravel(), grid2.ravel())).T\n",
    "    distances = []\n",
    "    for point in points:\n",
    "        x1 = np.array(point)\n",
    "        y1 = np.array([0, 0])\n",
    "        distances.append(minkowski(x1, y1, p))\n",
    "    distances = np.array(distances)\n",
    "    points_array = np.array(points)\n",
    "    filtered_points = points_array[distances <= r]\n",
    "    x = list(map(lambda x: x[0], filtered_points))\n",
    "    y = list(map(lambda x: x[1], filtered_points))\n",
    "    _, ax = plt.subplots(figsize=(5, 5))\n",
    "    ax.plot(x, y, 'bo')\n",
    "    ax.set_xlim(-r - 1, r + 1)\n",
    "    ax.set_ylim(-r - 1, r + 1)\n",
    "    plt.xlabel(\"X-axis\")\n",
    "    plt.ylabel(\"Y-axis\")\n",
    "    plt.grid(True)\n",
    "    plt.show()\n",
    "\n",
    "\n",
    "# Create an interactive slider to adjust the radius\n",
    "radius_slider = widgets.FloatSlider(\n",
    "    value=0.1, min=0.1, max=2.0, step=0.1, description=\"Radius\"\n",
    ")\n",
    "p_slider = widgets.FloatSlider(value=2, min=1, max=10, step=1, description=\"p\")\n",
    "\n",
    "# Create an interactive plot\n",
    "interact(update_plot, r=radius_slider, p=p_slider)"
   ]
  },
  {
   "cell_type": "code",
   "execution_count": null,
   "metadata": {},
   "outputs": [],
   "source": []
  }
 ],
 "metadata": {
  "kernelspec": {
   "display_name": "Algebra_Sandbox-3T0psl7Q",
   "language": "python",
   "name": "python3"
  },
  "language_info": {
   "codemirror_mode": {
    "name": "ipython",
    "version": 3
   },
   "file_extension": ".py",
   "mimetype": "text/x-python",
   "name": "python",
   "nbconvert_exporter": "python",
   "pygments_lexer": "ipython3",
   "version": "3.11.5"
  },
  "orig_nbformat": 4
 },
 "nbformat": 4,
 "nbformat_minor": 2
}
